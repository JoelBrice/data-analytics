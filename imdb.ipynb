{
 "cells": [
  {
   "cell_type": "code",
   "execution_count": 2,
   "metadata": {},
   "outputs": [],
   "source": [
    "import numpy as np\n",
    "import pandas as pd\n",
    "import seaborn as sns\n",
    "import matplotlib.pyplot as plt\n",
    "import sqlite3 as sql"
   ]
  },
  {
   "cell_type": "code",
   "execution_count": 3,
   "metadata": {},
   "outputs": [
    {
     "name": "stdout",
     "output_type": "stream",
     "text": [
      "(('id', None, None, None, None, None, None), ('original_title', None, None, None, None, None, None), ('budget', None, None, None, None, None, None), ('popularity', None, None, None, None, None, None), ('release_date', None, None, None, None, None, None), ('revenue', None, None, None, None, None, None), ('title', None, None, None, None, None, None), ('vote_average', None, None, None, None, None, None), ('vote_count', None, None, None, None, None, None), ('overview', None, None, None, None, None, None), ('tagline', None, None, None, None, None, None), ('uid', None, None, None, None, None, None), ('director_id', None, None, None, None, None, None))\n"
     ]
    }
   ],
   "source": [
    "conn = sql.connect(\"./imdb_dataset/movies.sqlite\")\n",
    "\n",
    "cur = conn.cursor()\n",
    "movies = cur.execute(\"SELECT * FROM movies\") # Get all the movies\n",
    "print(movies.description) # Get the column names"
   ]
  },
  {
   "cell_type": "code",
   "execution_count": 4,
   "metadata": {},
   "outputs": [
    {
     "name": "stdout",
     "output_type": "stream",
     "text": [
      "      id                            original_title     budget  popularity  \\\n",
      "0  43597                                    Avatar  237000000         150   \n",
      "1  43598  Pirates of the Caribbean: At World's End  300000000         139   \n",
      "2  43599                                   Spectre  245000000         107   \n",
      "3  43600                     The Dark Knight Rises  250000000         112   \n",
      "4  43601                               John Carter  260000000          43   \n",
      "\n",
      "  release_date     revenue                                     title  \\\n",
      "0   2009-12-10  2787965087                                    Avatar   \n",
      "1   2007-05-19   961000000  Pirates of the Caribbean: At World's End   \n",
      "2   2015-10-26   880674609                                   Spectre   \n",
      "3   2012-07-16  1084939099                     The Dark Knight Rises   \n",
      "4   2012-03-07   284139100                               John Carter   \n",
      "\n",
      "   vote_average  vote_count  \\\n",
      "0           7.2       11800   \n",
      "1           6.9        4500   \n",
      "2           6.3        4466   \n",
      "3           7.6        9106   \n",
      "4           6.1        2124   \n",
      "\n",
      "                                            overview  \\\n",
      "0  In the 22nd century, a paraplegic Marine is di...   \n",
      "1  Captain Barbossa, long believed to be dead, ha...   \n",
      "2  A cryptic message from Bond’s past sends him o...   \n",
      "3  Following the death of District Attorney Harve...   \n",
      "4  John Carter is a war-weary, former military ca...   \n",
      "\n",
      "                                          tagline     uid  director_id  \n",
      "0                     Enter the World of Pandora.   19995         4762  \n",
      "1  At the end of the world, the adventure begins.     285         4763  \n",
      "2                           A Plan No One Escapes  206647         4764  \n",
      "3                                 The Legend Ends   49026         4765  \n",
      "4            Lost in our world, found in another.   49529         4766  \n",
      "<bound method DataFrame.info of          id                            original_title     budget  popularity  \\\n",
      "0     43597                                    Avatar  237000000         150   \n",
      "1     43598  Pirates of the Caribbean: At World's End  300000000         139   \n",
      "2     43599                                   Spectre  245000000         107   \n",
      "3     43600                     The Dark Knight Rises  250000000         112   \n",
      "4     43601                               John Carter  260000000          43   \n",
      "...     ...                                       ...        ...         ...   \n",
      "4768  48395                               El Mariachi     220000          14   \n",
      "4769  48396                                 Newlyweds       9000           0   \n",
      "4770  48397                 Signed, Sealed, Delivered          0           1   \n",
      "4771  48398                          Shanghai Calling          0           0   \n",
      "4772  48399                         My Date with Drew          0           1   \n",
      "\n",
      "     release_date     revenue                                     title  \\\n",
      "0      2009-12-10  2787965087                                    Avatar   \n",
      "1      2007-05-19   961000000  Pirates of the Caribbean: At World's End   \n",
      "2      2015-10-26   880674609                                   Spectre   \n",
      "3      2012-07-16  1084939099                     The Dark Knight Rises   \n",
      "4      2012-03-07   284139100                               John Carter   \n",
      "...           ...         ...                                       ...   \n",
      "4768   1992-09-04     2040920                               El Mariachi   \n",
      "4769   2011-12-26           0                                 Newlyweds   \n",
      "4770   2013-10-13           0                 Signed, Sealed, Delivered   \n",
      "4771   2012-05-03           0                          Shanghai Calling   \n",
      "4772   2005-08-05           0                         My Date with Drew   \n",
      "\n",
      "      vote_average  vote_count  \\\n",
      "0              7.2       11800   \n",
      "1              6.9        4500   \n",
      "2              6.3        4466   \n",
      "3              7.6        9106   \n",
      "4              6.1        2124   \n",
      "...            ...         ...   \n",
      "4768           6.6         238   \n",
      "4769           5.9           5   \n",
      "4770           7.0           6   \n",
      "4771           5.7           7   \n",
      "4772           6.3          16   \n",
      "\n",
      "                                               overview  \\\n",
      "0     In the 22nd century, a paraplegic Marine is di...   \n",
      "1     Captain Barbossa, long believed to be dead, ha...   \n",
      "2     A cryptic message from Bond’s past sends him o...   \n",
      "3     Following the death of District Attorney Harve...   \n",
      "4     John Carter is a war-weary, former military ca...   \n",
      "...                                                 ...   \n",
      "4768  El Mariachi just wants to play his guitar and ...   \n",
      "4769  A newlywed couple's honeymoon is upended by th...   \n",
      "4770  \"Signed, Sealed, Delivered\" introduces a dedic...   \n",
      "4771  When ambitious New York attorney Sam is sent t...   \n",
      "4772  Ever since the second grade when he first saw ...   \n",
      "\n",
      "                                                tagline     uid  director_id  \n",
      "0                           Enter the World of Pandora.   19995         4762  \n",
      "1        At the end of the world, the adventure begins.     285         4763  \n",
      "2                                 A Plan No One Escapes  206647         4764  \n",
      "3                                       The Legend Ends   49026         4765  \n",
      "4                  Lost in our world, found in another.   49529         4766  \n",
      "...                                                 ...     ...          ...  \n",
      "4768  He didn't come looking for trouble, but troubl...    9367         5097  \n",
      "4769  A newlywed couple's honeymoon is upended by th...   72766         6485  \n",
      "4770                                               None  231617         7108  \n",
      "4771                           A New Yorker in Shanghai  126186         7109  \n",
      "4772                                               None   25975         7110  \n",
      "\n",
      "[4773 rows x 13 columns]>\n"
     ]
    }
   ],
   "source": [
    "movies =cur.fetchall()\n",
    "\n",
    "movies_df = pd.DataFrame(movies, columns=['id', 'original_title', 'budget','popularity', 'release_date', 'revenue', 'title', 'vote_average', 'vote_count', 'overview', 'tagline', 'uid', 'director_id' ])\n",
    "\n",
    "print(movies_df.head())\n",
    "\n",
    "print(movies_df.info)"
   ]
  },
  {
   "cell_type": "code",
   "execution_count": 5,
   "metadata": {},
   "outputs": [
    {
     "data": {
      "text/html": [
       "<div>\n",
       "<style scoped>\n",
       "    .dataframe tbody tr th:only-of-type {\n",
       "        vertical-align: middle;\n",
       "    }\n",
       "\n",
       "    .dataframe tbody tr th {\n",
       "        vertical-align: top;\n",
       "    }\n",
       "\n",
       "    .dataframe thead th {\n",
       "        text-align: right;\n",
       "    }\n",
       "</style>\n",
       "<table border=\"1\" class=\"dataframe\">\n",
       "  <thead>\n",
       "    <tr style=\"text-align: right;\">\n",
       "      <th></th>\n",
       "      <th>name</th>\n",
       "      <th>id</th>\n",
       "      <th>gender</th>\n",
       "      <th>uid</th>\n",
       "      <th>department</th>\n",
       "    </tr>\n",
       "  </thead>\n",
       "  <tbody>\n",
       "    <tr>\n",
       "      <th>0</th>\n",
       "      <td>James Cameron</td>\n",
       "      <td>4762</td>\n",
       "      <td>2</td>\n",
       "      <td>2710</td>\n",
       "      <td>Directing</td>\n",
       "    </tr>\n",
       "    <tr>\n",
       "      <th>1</th>\n",
       "      <td>Gore Verbinski</td>\n",
       "      <td>4763</td>\n",
       "      <td>2</td>\n",
       "      <td>1704</td>\n",
       "      <td>Directing</td>\n",
       "    </tr>\n",
       "    <tr>\n",
       "      <th>2</th>\n",
       "      <td>Sam Mendes</td>\n",
       "      <td>4764</td>\n",
       "      <td>2</td>\n",
       "      <td>39</td>\n",
       "      <td>Directing</td>\n",
       "    </tr>\n",
       "    <tr>\n",
       "      <th>3</th>\n",
       "      <td>Christopher Nolan</td>\n",
       "      <td>4765</td>\n",
       "      <td>2</td>\n",
       "      <td>525</td>\n",
       "      <td>Directing</td>\n",
       "    </tr>\n",
       "    <tr>\n",
       "      <th>4</th>\n",
       "      <td>Andrew Stanton</td>\n",
       "      <td>4766</td>\n",
       "      <td>2</td>\n",
       "      <td>7</td>\n",
       "      <td>Directing</td>\n",
       "    </tr>\n",
       "  </tbody>\n",
       "</table>\n",
       "</div>"
      ],
      "text/plain": [
       "                name    id  gender   uid department\n",
       "0      James Cameron  4762       2  2710  Directing\n",
       "1     Gore Verbinski  4763       2  1704  Directing\n",
       "2         Sam Mendes  4764       2    39  Directing\n",
       "3  Christopher Nolan  4765       2   525  Directing\n",
       "4     Andrew Stanton  4766       2     7  Directing"
      ]
     },
     "execution_count": 5,
     "metadata": {},
     "output_type": "execute_result"
    }
   ],
   "source": [
    "# Find all movies with directors\n",
    "_cursor = cur.execute('SELECT * FROM directors')\n",
    "\n",
    "directors = _cursor.fetchall()\n",
    "\n",
    "directorsDF = pd.DataFrame(directors, columns = ['name', 'id', 'gender', 'uid', 'department'])\n",
    "directorsDF.head()"
   ]
  },
  {
   "cell_type": "code",
   "execution_count": 6,
   "metadata": {},
   "outputs": [
    {
     "name": "stdout",
     "output_type": "stream",
     "text": [
      "<class 'pandas.core.frame.DataFrame'>\n",
      "RangeIndex: 2349 entries, 0 to 2348\n",
      "Data columns (total 5 columns):\n",
      " #   Column      Non-Null Count  Dtype \n",
      "---  ------      --------------  ----- \n",
      " 0   name        2349 non-null   object\n",
      " 1   id          2349 non-null   int64 \n",
      " 2   gender      2349 non-null   int64 \n",
      " 3   uid         2349 non-null   int64 \n",
      " 4   department  2349 non-null   object\n",
      "dtypes: int64(3), object(2)\n",
      "memory usage: 91.9+ KB\n"
     ]
    }
   ],
   "source": [
    "directorsDF.info()"
   ]
  },
  {
   "cell_type": "code",
   "execution_count": 7,
   "metadata": {},
   "outputs": [
    {
     "data": {
      "text/html": [
       "<div>\n",
       "<style scoped>\n",
       "    .dataframe tbody tr th:only-of-type {\n",
       "        vertical-align: middle;\n",
       "    }\n",
       "\n",
       "    .dataframe tbody tr th {\n",
       "        vertical-align: top;\n",
       "    }\n",
       "\n",
       "    .dataframe thead th {\n",
       "        text-align: right;\n",
       "    }\n",
       "</style>\n",
       "<table border=\"1\" class=\"dataframe\">\n",
       "  <thead>\n",
       "    <tr style=\"text-align: right;\">\n",
       "      <th></th>\n",
       "      <th>original_title</th>\n",
       "      <th>director_name</th>\n",
       "      <th>release_date</th>\n",
       "      <th>budget</th>\n",
       "      <th>revenue</th>\n",
       "    </tr>\n",
       "  </thead>\n",
       "  <tbody>\n",
       "    <tr>\n",
       "      <th>0</th>\n",
       "      <td>Pirates of the Caribbean: On Stranger Tides</td>\n",
       "      <td>Rob Marshall</td>\n",
       "      <td>2011-05-14</td>\n",
       "      <td>380000000</td>\n",
       "      <td>1045713802</td>\n",
       "    </tr>\n",
       "    <tr>\n",
       "      <th>1</th>\n",
       "      <td>Pirates of the Caribbean: At World's End</td>\n",
       "      <td>Gore Verbinski</td>\n",
       "      <td>2007-05-19</td>\n",
       "      <td>300000000</td>\n",
       "      <td>961000000</td>\n",
       "    </tr>\n",
       "    <tr>\n",
       "      <th>2</th>\n",
       "      <td>Avengers: Age of Ultron</td>\n",
       "      <td>Joss Whedon</td>\n",
       "      <td>2015-04-22</td>\n",
       "      <td>280000000</td>\n",
       "      <td>1405403694</td>\n",
       "    </tr>\n",
       "    <tr>\n",
       "      <th>3</th>\n",
       "      <td>Superman Returns</td>\n",
       "      <td>Bryan Singer</td>\n",
       "      <td>2006-06-28</td>\n",
       "      <td>270000000</td>\n",
       "      <td>391081192</td>\n",
       "    </tr>\n",
       "    <tr>\n",
       "      <th>4</th>\n",
       "      <td>John Carter</td>\n",
       "      <td>Andrew Stanton</td>\n",
       "      <td>2012-03-07</td>\n",
       "      <td>260000000</td>\n",
       "      <td>284139100</td>\n",
       "    </tr>\n",
       "    <tr>\n",
       "      <th>5</th>\n",
       "      <td>Tangled</td>\n",
       "      <td>Byron Howard</td>\n",
       "      <td>2010-11-24</td>\n",
       "      <td>260000000</td>\n",
       "      <td>591794936</td>\n",
       "    </tr>\n",
       "    <tr>\n",
       "      <th>6</th>\n",
       "      <td>Spider-Man 3</td>\n",
       "      <td>Sam Raimi</td>\n",
       "      <td>2007-05-01</td>\n",
       "      <td>258000000</td>\n",
       "      <td>890871626</td>\n",
       "    </tr>\n",
       "    <tr>\n",
       "      <th>7</th>\n",
       "      <td>The Lone Ranger</td>\n",
       "      <td>Gore Verbinski</td>\n",
       "      <td>2013-07-03</td>\n",
       "      <td>255000000</td>\n",
       "      <td>89289910</td>\n",
       "    </tr>\n",
       "    <tr>\n",
       "      <th>8</th>\n",
       "      <td>The Dark Knight Rises</td>\n",
       "      <td>Christopher Nolan</td>\n",
       "      <td>2012-07-16</td>\n",
       "      <td>250000000</td>\n",
       "      <td>1084939099</td>\n",
       "    </tr>\n",
       "    <tr>\n",
       "      <th>9</th>\n",
       "      <td>Harry Potter and the Half-Blood Prince</td>\n",
       "      <td>David Yates</td>\n",
       "      <td>2009-07-07</td>\n",
       "      <td>250000000</td>\n",
       "      <td>933959197</td>\n",
       "    </tr>\n",
       "  </tbody>\n",
       "</table>\n",
       "</div>"
      ],
      "text/plain": [
       "                                original_title      director_name  \\\n",
       "0  Pirates of the Caribbean: On Stranger Tides       Rob Marshall   \n",
       "1     Pirates of the Caribbean: At World's End     Gore Verbinski   \n",
       "2                      Avengers: Age of Ultron        Joss Whedon   \n",
       "3                             Superman Returns       Bryan Singer   \n",
       "4                                  John Carter     Andrew Stanton   \n",
       "5                                      Tangled       Byron Howard   \n",
       "6                                 Spider-Man 3          Sam Raimi   \n",
       "7                              The Lone Ranger     Gore Verbinski   \n",
       "8                        The Dark Knight Rises  Christopher Nolan   \n",
       "9       Harry Potter and the Half-Blood Prince        David Yates   \n",
       "\n",
       "  release_date     budget     revenue  \n",
       "0   2011-05-14  380000000  1045713802  \n",
       "1   2007-05-19  300000000   961000000  \n",
       "2   2015-04-22  280000000  1405403694  \n",
       "3   2006-06-28  270000000   391081192  \n",
       "4   2012-03-07  260000000   284139100  \n",
       "5   2010-11-24  260000000   591794936  \n",
       "6   2007-05-01  258000000   890871626  \n",
       "7   2013-07-03  255000000    89289910  \n",
       "8   2012-07-16  250000000  1084939099  \n",
       "9   2009-07-07  250000000   933959197  "
      ]
     },
     "execution_count": 7,
     "metadata": {},
     "output_type": "execute_result"
    }
   ],
   "source": [
    "# Budget analysis\n",
    "# Sort from most expensive movie going down.\n",
    "\n",
    "_cursor = cur.execute('SELECT original_title, name, release_date, budget, revenue FROM movies JOIN directors ON movies.director_id = directors.id ORDER BY budget DESC')\n",
    "most_expensive = _cursor.fetchall()\n",
    "most_expensive = pd.DataFrame(most_expensive, columns = ['original_title', 'director_name', 'release_date', 'budget', 'revenue'])\n",
    "most_expensive.head(10)\n"
   ]
  },
  {
   "cell_type": "code",
   "execution_count": 8,
   "metadata": {},
   "outputs": [
    {
     "data": {
      "text/plain": [
       "<seaborn.axisgrid.FacetGrid at 0x2d9b3921540>"
      ]
     },
     "execution_count": 8,
     "metadata": {},
     "output_type": "execute_result"
    },
    {
     "data": {
      "image/png": "[encoded data removed]",
      "text/plain": [
       "<Figure size 360x360 with 1 Axes>"
      ]
     },
     "metadata": {},
     "output_type": "display_data"
    }
   ],
   "source": [
    "# Plot the movies budgets in a scatter plot with the released dates\n",
    "sns.set(style=\"darkgrid\")\n",
    "sns.relplot(x=\"release_date\", y=\"budget\", data=most_expensive)"
   ]
  },
  {
   "cell_type": "code",
   "execution_count": 9,
   "metadata": {},
   "outputs": [],
   "source": [
    "# Needs to fix the x asis to show released dates."
   ]
  },
  {
   "cell_type": "code",
   "execution_count": 10,
   "metadata": {},
   "outputs": [
    {
     "name": "stdout",
     "output_type": "stream",
     "text": [
      "  origin_title      director_name release_date  popularity     revenue\n",
      "0      Minions      James Cameron   2015-06-17         875  1156730962\n",
      "1      Minions     Gore Verbinski   2015-06-17         875  1156730962\n",
      "2      Minions         Sam Mendes   2015-06-17         875  1156730962\n",
      "3      Minions  Christopher Nolan   2015-06-17         875  1156730962\n",
      "4      Minions     Andrew Stanton   2015-06-17         875  1156730962\n",
      "5      Minions          Sam Raimi   2015-06-17         875  1156730962\n",
      "6      Minions       Byron Howard   2015-06-17         875  1156730962\n",
      "7      Minions        Joss Whedon   2015-06-17         875  1156730962\n",
      "8      Minions        David Yates   2015-06-17         875  1156730962\n",
      "9      Minions        Zack Snyder   2015-06-17         875  1156730962\n"
     ]
    }
   ],
   "source": [
    "#Popularity Analysis\n",
    "cur.execute('SELECT original_title, name, release_date, popularity, revenue FROM movies JOIN directors ON movies.director_id = director_id ORDER BY popularity DESC')\n",
    "most_popular = cur.fetchall()\n",
    "most_popular = pd.DataFrame(most_popular, columns =['origin_title', 'director_name', 'release_date', 'popularity', 'revenue'])\n",
    "print(most_popular.head(10))"
   ]
  },
  {
   "cell_type": "code",
   "execution_count": 11,
   "metadata": {},
   "outputs": [
    {
     "name": "stdout",
     "output_type": "stream",
     "text": [
      "             original-title         director_name release_date  vote_average  \\\n",
      "0          Stiff Upper Lips           Gary Sinyor   1998-06-12          10.0   \n",
      "1     Dancer, Texas Pop. 81         Tim McCanlies   1998-05-01          10.0   \n",
      "2                 Sardaarji          Rohit Jugraj   2015-06-26           9.5   \n",
      "3            One Man's Hero            Lance Hool   1999-08-02           9.3   \n",
      "4  The Shawshank Redemption        Frank Darabont   1994-09-23           8.5   \n",
      "5        There Goes My Baby          Floyd Mutrux   1994-09-02           8.5   \n",
      "6     The Prisoner of Zenda         John Cromwell   1937-09-03           8.4   \n",
      "7             The Godfather  Francis Ford Coppola   1972-03-14           8.4   \n",
      "8                Fight Club         David Fincher   1999-10-15           8.3   \n",
      "9          Schindler's List      Steven Spielberg   1993-11-29           8.3   \n",
      "\n",
      "   vote_count  \n",
      "0           1  \n",
      "1           1  \n",
      "2           2  \n",
      "3           2  \n",
      "4        8205  \n",
      "5           2  \n",
      "6          11  \n",
      "7        5893  \n",
      "8        9413  \n",
      "9        4329  \n"
     ]
    }
   ],
   "source": [
    "# Rating analysis\n",
    "cur.execute('SELECT original_title, name, release_date, vote_average, vote_count FROM movies JOIN directors ON movies.director_id = directors.id ORDER BY vote_average DESC')\n",
    "most_rated_movies = cur.fetchall()\n",
    "most_rated_movies = pd.DataFrame(most_rated_movies, columns=['original-title', 'director_name', 'release_date', 'vote_average', 'vote_count'])\n",
    "\n",
    "print(most_rated_movies.head(10))\n"
   ]
  },
  {
   "cell_type": "code",
   "execution_count": 17,
   "metadata": {},
   "outputs": [],
   "source": [
    "\n",
    "#Create a heatmap to show the affect if two movies were voted by 1 person.\n",
    "\n",
    "sns.set(rc = {'figure.figsize': (8, 8)})\n",
    "# sns.heatmap(movies[['budget', 'popularity', 'revenue', 'vote_average', 'director_id']].corr(), \n",
    "            # annot = True, fmt = '.2f', linewidth = 1)"
   ]
  },
  {
   "cell_type": "code",
   "execution_count": null,
   "metadata": {},
   "outputs": [],
   "source": []
  }
 ],
 "metadata": {
  "interpreter": {
   "hash": "c02f2edc4eed037431199e36fbfe7b3b2f7903437eb21838817d524f6bb80a63"
  },
  "kernelspec": {
   "display_name": "Python 3.6.8 ('env': venv)",
   "language": "python",
   "name": "python3"
  },
  "language_info": {
   "codemirror_mode": {
    "name": "ipython",
    "version": 3
   },
   "file_extension": ".py",
   "mimetype": "text/x-python",
   "name": "python",
   "nbconvert_exporter": "python",
   "pygments_lexer": "ipython3",
   "version": "3.10.2"
  },
  "orig_nbformat": 4
 },
 "nbformat": 4,
 "nbformat_minor": 2
}
