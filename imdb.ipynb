{
 "cells": [
  {
   "cell_type": "code",
   "execution_count": 5,
   "metadata": {},
   "outputs": [],
   "source": [
    "\n",
    "import numpy as np\n",
    "import pandas as pd\n",
    "import seaborn as sns\n",
    "import matplotlib.pyplot as plt\n",
    "import sqlite3 as sql"
   ]
  },
  {
   "cell_type": "code",
   "execution_count": 6,
   "metadata": {},
   "outputs": [
    {
     "name": "stdout",
     "output_type": "stream",
     "text": [
      "      id                            original_title     budget  popularity  \\\n",
      "0  43597                                    Avatar  237000000         150   \n",
      "1  43598  Pirates of the Caribbean: At World's End  300000000         139   \n",
      "2  43599                                   Spectre  245000000         107   \n",
      "3  43600                     The Dark Knight Rises  250000000         112   \n",
      "4  43601                               John Carter  260000000          43   \n",
      "\n",
      "  release_date     revenue                                     title  \\\n",
      "0   2009-12-10  2787965087                                    Avatar   \n",
      "1   2007-05-19   961000000  Pirates of the Caribbean: At World's End   \n",
      "2   2015-10-26   880674609                                   Spectre   \n",
      "3   2012-07-16  1084939099                     The Dark Knight Rises   \n",
      "4   2012-03-07   284139100                               John Carter   \n",
      "\n",
      "   vote_average  vote_count  \\\n",
      "0           7.2       11800   \n",
      "1           6.9        4500   \n",
      "2           6.3        4466   \n",
      "3           7.6        9106   \n",
      "4           6.1        2124   \n",
      "\n",
      "                                            overview  \\\n",
      "0  In the 22nd century, a paraplegic Marine is di...   \n",
      "1  Captain Barbossa, long believed to be dead, ha...   \n",
      "2  A cryptic message from Bond’s past sends him o...   \n",
      "3  Following the death of District Attorney Harve...   \n",
      "4  John Carter is a war-weary, former military ca...   \n",
      "\n",
      "                                          tagline     uid  director_id  \n",
      "0                     Enter the World of Pandora.   19995         4762  \n",
      "1  At the end of the world, the adventure begins.     285         4763  \n",
      "2                           A Plan No One Escapes  206647         4764  \n",
      "3                                 The Legend Ends   49026         4765  \n",
      "4            Lost in our world, found in another.   49529         4766  \n",
      "                name    id  gender   uid department\n",
      "0      James Cameron  4762       2  2710  Directing\n",
      "1     Gore Verbinski  4763       2  1704  Directing\n",
      "2         Sam Mendes  4764       2    39  Directing\n",
      "3  Christopher Nolan  4765       2   525  Directing\n",
      "4     Andrew Stanton  4766       2     7  Directing\n"
     ]
    }
   ],
   "source": [
    "\n",
    "conn = sql.connect(\"./imdb_dataset/movies.sqlite\")\n",
    "\n",
    "movies = pd.read_sql_query(\"SELECT * FROM movies\", conn)\n",
    "\n",
    "print(movies.head())\n",
    "\n",
    "\n",
    "directors = pd.read_sql_query(\"SELECT * FROM directors\", conn)\n",
    "print(directors.head())"
   ]
  },
  {
   "cell_type": "code",
   "execution_count": null,
   "metadata": {},
   "outputs": [],
   "source": []
  }
 ],
 "metadata": {
  "interpreter": {
   "hash": "c02f2edc4eed037431199e36fbfe7b3b2f7903437eb21838817d524f6bb80a63"
  },
  "kernelspec": {
   "display_name": "Python 3.6.8 ('env': venv)",
   "language": "python",
   "name": "python3"
  },
  "language_info": {
   "codemirror_mode": {
    "name": "ipython",
    "version": 3
   },
   "file_extension": ".py",
   "mimetype": "text/x-python",
   "name": "python",
   "nbconvert_exporter": "python",
   "pygments_lexer": "ipython3",
   "version": "3.10.2"
  },
  "orig_nbformat": 4
 },
 "nbformat": 4,
 "nbformat_minor": 2
}
